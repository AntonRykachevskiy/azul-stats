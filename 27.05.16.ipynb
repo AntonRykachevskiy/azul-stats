{
 "cells": [
  {
   "cell_type": "markdown",
   "metadata": {},
   "source": [
    "### test on two samples from same distr"
   ]
  },
  {
   "cell_type": "markdown",
   "metadata": {},
   "source": [
    "#### Here's a small guideline through the method I expect to use. \n",
    "\n",
    "#### The test is prepared on lognormal distributition with 99.99tile = 8995 and 99.999tile = 15942, which is pretty close to what we have on Cassandra. "
   ]
  },
  {
   "cell_type": "code",
   "execution_count": 250,
   "metadata": {
    "collapsed": false,
    "scrolled": true
   },
   "outputs": [
    {
     "data": {
      "image/png": "[encoded data removed]",
      "text/plain": [
       "<matplotlib.figure.Figure at 0x7f8f5aa92590>"
      ]
     },
     "metadata": {},
     "output_type": "display_data"
    }
   ],
   "source": [
    "plotDensity([\n",
    "        distr_0.pdf(np.linspace(0,1000,1000)),\n",
    "        ])"
   ]
  },
  {
   "cell_type": "markdown",
   "metadata": {},
   "source": [
    "#### Create two samples from this distribution, which should be marked as the same by our test. Samples sizes are 4000000 each, which is the the same with 10 min Cassandra runs with 10k thpt. "
   ]
  },
  {
   "cell_type": "code",
   "execution_count": 109,
   "metadata": {
    "collapsed": true
   },
   "outputs": [],
   "source": [
    "base_sample = modelDistr.rvs(sample_size)\n",
    "check_sample = modelDistr.rvs(sample_size)"
   ]
  },
  {
   "cell_type": "code",
   "execution_count": 185,
   "metadata": {
    "collapsed": true
   },
   "outputs": [],
   "source": [
    "base_density = densityFromSample(base_sample)[0]"
   ]
  },
  {
   "cell_type": "markdown",
   "metadata": {},
   "source": [
    "#### First step is to create and smooth density from the first sample"
   ]
  },
  {
   "cell_type": "code",
   "execution_count": 186,
   "metadata": {
    "collapsed": false,
    "scrolled": true
   },
   "outputs": [
    {
     "name": "stdout",
     "output_type": "stream",
     "text": [
      "Type changing...\n"
     ]
    }
   ],
   "source": [
    "base_density_smoothed = flattenDensities(base_density, bw=10)[0]"
   ]
  },
  {
   "cell_type": "markdown",
   "metadata": {},
   "source": [
    "#### Than check percentile values"
   ]
  },
  {
   "cell_type": "code",
   "execution_count": 252,
   "metadata": {
    "collapsed": false,
    "scrolled": false
   },
   "outputs": [
    {
     "name": "stdout",
     "output_type": "stream",
     "text": [
      "50 : \n",
      "base_sample                    : 500.038952833\n",
      "check_sample                   : 499.956309679\n",
      "smoothed density of base sample: 500\n",
      "---------------\n",
      "90 : \n",
      "base_sample                    : 865.246266457\n",
      "check_sample                   : 865.486882388\n",
      "smoothed density of base sample: 865\n",
      "---------------\n",
      "99 : \n",
      "base_sample                    : 2030.69236159\n",
      "check_sample                   : 2027.15755958\n",
      "smoothed density of base sample: 2031\n",
      "---------------\n",
      "99.9 : \n",
      "base_sample                    : 4488.32636528\n",
      "check_sample                   : 4469.64682472\n",
      "smoothed density of base sample: 4488\n",
      "---------------\n",
      "99.99 : \n",
      "base_sample                    : 9078.03708198\n",
      "check_sample                   : 8990.96505124\n",
      "smoothed density of base sample: 9080\n",
      "---------------\n",
      "99.999 : \n",
      "base_sample                    : 17282.8895817\n",
      "check_sample                   : 16724.2083176\n",
      "smoothed density of base sample: 17284\n",
      "---------------\n"
     ]
    }
   ],
   "source": [
    "perc_set = [50, 90, 99, 99.9, 99.99, 99.999]\n",
    "\n",
    "for p in perc_set:\n",
    "    print \"{0} : \".format(p)\n",
    "    print \"base_sample                    : {0}\".format(np.percentile(base_sample, p,))\n",
    "    print \"check_sample                   : {0}\".format(np.percentile(check_sample, p, ))\n",
    "    print \"smoothed density of base sample: {0}\".format(pdfPercentiles(base_density_smoothed, p))\n",
    "\n",
    "    print \"---------------\""
   ]
  },
  {
   "cell_type": "markdown",
   "metadata": {},
   "source": [
    "#### Difference like we have on Cassandra can be found on the 99.999tile, so the test will be performed with it\n",
    "\n",
    "To check if the second sample(check_sample) is drawn from the same pdf by the percentle value, I perform Neyman-Pearson test. \n",
    "Step-by-step it looks like this:\n",
    "\n",
    "1. The base hypothesis is that check sample is drawn from the same density function as base sample, which is smoothed density of base sample.\n",
    "2. Create a set of alternative hypothesises. Here I'm working with alternatives that the check sample is drawn from the distribution shifted right or left, by 1% of maximum value in the base sample. It's quite reasonable alternative for 99.999tile value. \n",
    "3. Generate more samples the same size as the original one from the base distribution and alternatives\n",
    "4. Calculate 99.999 percentile distributions along the base distr and alternatives\n",
    "5. The statistic to make a decision is the ratio of likelihoods. Let the 99.999tile value of check sample be $ p $, this means our dicision statistic will be $ L_0(p)/L_{\\infty}(p) $, where $ L_0(p) $ stands for likelihood of being drawn from base distr and $ L_{\\infty}(p) $ for alternative\n",
    "6. Then we generate more samples from our base distribution and alternative, and for each of them we calculate the percentile value and than decision statistic, so we have the distribution of decision statistic when the base hypothesis is true and when the alternative is true\n",
    "8. We set the dicision border for decision statistic, means if it's higher than boarder, we believe in basic hypothesis, if lower in alternative. The way to set it depends on the values of false positives and false negatives that we are ready to see.\n",
    "7. Finaly we take the check sample 99.999tile value and calculate statistic for it, and make a decision.\n",
    "\n",
    "Here it is:"
   ]
  },
  {
   "cell_type": "code",
   "execution_count": 338,
   "metadata": {
    "collapsed": false
   },
   "outputs": [],
   "source": [
    "from scipy.stats import rv_continuous\n",
    "\n",
    "class Distr(rv_continuous):\n",
    "    def __init__(self, pdf):\n",
    "        self.__pdf = pdf\n",
    "        \n",
    "    def _pdf(self, x):\n",
    "        if x < len(self.__pdf) and x > 0:\n",
    "            return self.__pdf(round(x))\n",
    "        else:\n",
    "            return 0\n",
    "    \n",
    "    def _rvs(self, size = 1):\n",
    "        return np.random.choice(range(len(self.__pdf)), size, p = self.__pdf)\n",
    "        \n",
    "    def rvs(self, size = 1):\n",
    "        return self._rvs(size)\n",
    "    \n"
   ]
  },
  {
   "cell_type": "code",
   "execution_count": 339,
   "metadata": {
    "collapsed": true
   },
   "outputs": [],
   "source": [
    "base_distr = Distr(base_density_smoothed)"
   ]
  },
  {
   "cell_type": "markdown",
   "metadata": {},
   "source": [
    "#### Here I create alternatives low_density and high_density"
   ]
  },
  {
   "cell_type": "code",
   "execution_count": 233,
   "metadata": {
    "collapsed": false
   },
   "outputs": [
    {
     "name": "stdout",
     "output_type": "stream",
     "text": [
      "1206\n"
     ]
    }
   ],
   "source": [
    "shift = 0.01\n",
    "shift_absolute = int(round(shift * len(base_density_smoothed)))\n",
    "print shift_absolute\n",
    "\n",
    "low_density = base_density_smoothed[shift_absolute:]\n",
    "high_density = np.hstack((np.zeros(shift_absolute), base_density_smoothed))"
   ]
  },
  {
   "cell_type": "code",
   "execution_count": 340,
   "metadata": {
    "collapsed": false
   },
   "outputs": [],
   "source": [
    "low_distr = Distr(low_density)\n",
    "high_distr = Distr(high_density)"
   ]
  },
  {
   "cell_type": "markdown",
   "metadata": {},
   "source": [
    "####  This is how the 99.999tile value is disterbed. Blue is for base distribution, green is for higher alternative."
   ]
  },
  {
   "cell_type": "code",
   "execution_count": 235,
   "metadata": {
    "collapsed": false,
    "scrolled": true
   },
   "outputs": [
    {
     "data": {
      "image/png": "[encoded data removed]",
      "text/plain": [
       "<matplotlib.figure.Figure at 0x7f8f59b785d0>"
      ]
     },
     "metadata": {},
     "output_type": "display_data"
    }
   ],
   "source": [
    "s_base, s_high, np_base, np_high = singleNPDistr(base_distr, high_distr,\n",
    "                                            lambda x: np.percentile(x, 99.999), sample_size = 4000000)"
   ]
  },
  {
   "cell_type": "code",
   "execution_count": 247,
   "metadata": {
    "collapsed": false
   },
   "outputs": [],
   "source": [
    "s_base, s_high, np_base, np_high = singleNPDistr(base_distr, high_distr,\n",
    "                                            lambda x: np.percentile(x, 99.999), sample_size = 4000000,\n",
    "                                                np_bootstrap_size = 1000,\n",
    "                                                stat_sample_0 = s_base, stat_sample_inf = s_high)"
   ]
  },
  {
   "cell_type": "markdown",
   "metadata": {},
   "source": [
    "#### And this is how decision statistic is disterbed. Blue again is when base hypothesis is true, and green for alternative."
   ]
  },
  {
   "cell_type": "code",
   "execution_count": 255,
   "metadata": {
    "collapsed": false,
    "scrolled": true
   },
   "outputs": [
    {
     "data": {
      "text/plain": [
       "[]"
      ]
     },
     "execution_count": 255,
     "metadata": {},
     "output_type": "execute_result"
    },
    {
     "data": {
      "image/png": "[encoded data removed]",
      "text/plain": [
       "<matplotlib.figure.Figure at 0x7f8f515c1450>"
      ]
     },
     "metadata": {},
     "output_type": "display_data"
    }
   ],
   "source": [
    "plt.hist(np_base, bins= 100)\n",
    "plt.hist(np_high, bins = 100)\n",
    "plt.plot()"
   ]
  },
  {
   "cell_type": "code",
   "execution_count": 310,
   "metadata": {
    "collapsed": true
   },
   "outputs": [],
   "source": [
    "all_base = []\n",
    "all_alt = []\n",
    "x = []\n",
    "\n",
    "base_hist = np.histogram(np_base, bins = 100, density=True)\n",
    "alt_hist = np.histogram(np_high, bins = 100, density = True)\n",
    "\n",
    "i = 0\n",
    "j = 0 \n",
    "\n",
    "while i < len(base_hist[1]) - 2 or j < len(alt_hist[1]) - 2: \n",
    "    x.append(min(base_hist[1][i], alt_hist[1][j]))\n",
    "    all_base.append(base_hist[0][i])\n",
    "    all_alt.append(alt_hist[0][j])\n",
    "    if base_hist[1][i + 1] < alt_hist[1][j+1] or j >= len(alt_hist[1]) - 2:\n",
    "        i += 1\n",
    "    else:\n",
    "        j += 1  "
   ]
  },
  {
   "cell_type": "code",
   "execution_count": 314,
   "metadata": {
    "collapsed": false
   },
   "outputs": [],
   "source": [
    "false_positive_prop = []\n",
    "false_negative_prop = []\n",
    "i = 0\n",
    "j = 0 \n",
    "\n",
    "curr_FP = 1\n",
    "curr_FN = 0\n",
    "\n",
    "for i in range(1,len(x)):\n",
    "    false_positive_prop.append(curr_FP)\n",
    "    false_negative_prop.append(curr_FN)\n",
    "    \n",
    "    curr_FP -= all_alt[i] * (x[i] - x[i - 1])\n",
    "    curr_FN += all_base[i] * (x[i] - x[i - 1 ])"
   ]
  },
  {
   "cell_type": "markdown",
   "metadata": {},
   "source": [
    "## Here is the main thing! \n",
    "\n",
    "#### This plot shows how the False Negative error (FN) of decision based on 99.999 percentile depends on False Positive error(FP). In fact we need to minimize both.\n",
    "#### For example if we want FN be less than 10% we will get FP about 30%.  This shows that 99.999tile based decision on this sample size is useless, also for real cassandra data even 99.99 is probably useless too. \n",
    "\n",
    "#### Possible solution is to increase the sample size. I can find the sample size which will reduce the FP and FN to better values."
   ]
  },
  {
   "cell_type": "code",
   "execution_count": 322,
   "metadata": {
    "collapsed": false,
    "scrolled": true
   },
   "outputs": [
    {
     "data": {
      "text/plain": [
       "<matplotlib.text.Text at 0x7f8f59ebf150>"
      ]
     },
     "execution_count": 322,
     "metadata": {},
     "output_type": "execute_result"
    },
    {
     "data": {
      "image/png": "[encoded data removed]",
      "text/plain": [
       "<matplotlib.figure.Figure at 0x7f8f59f12c90>"
      ]
     },
     "metadata": {},
     "output_type": "display_data"
    }
   ],
   "source": [
    "plt.plot(false_negative_prop, false_positive_prop)\n",
    "plt.ylabel('FN error')\n",
    "plt.xlabel('FP error')"
   ]
  },
  {
   "cell_type": "code",
   "execution_count": null,
   "metadata": {
    "collapsed": true
   },
   "outputs": [],
   "source": []
  }
 ],
 "metadata": {
  "kernelspec": {
   "display_name": "Python 2",
   "language": "python",
   "name": "python2"
  },
  "language_info": {
   "codemirror_mode": {
    "name": "ipython",
    "version": 2
   },
   "file_extension": ".py",
   "mimetype": "text/x-python",
   "name": "python",
   "nbconvert_exporter": "python",
   "pygments_lexer": "ipython2",
   "version": "2.7.11"
  }
 },
 "nbformat": 4,
 "nbformat_minor": 0
}
